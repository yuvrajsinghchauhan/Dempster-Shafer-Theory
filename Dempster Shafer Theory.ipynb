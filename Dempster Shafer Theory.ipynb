{
 "cells": [
  {
   "cell_type": "code",
   "execution_count": 5,
   "id": "cccac362",
   "metadata": {},
   "outputs": [
    {
     "name": "stdout",
     "output_type": "stream",
     "text": [
      "m1: {{'a'}:0.4; {'a', 'b', 'c'}:0.3; {'b'}:0.2; {'a', 'b'}:0.1}\n",
      "m1: bpa of {'a','b'}= 0.1\n",
      "m1: belief of {'a','b'}= 0.7000000000000001\n",
      "m1: plausibility of {'a','b'}= 1.0\n",
      "m1: commonality of {'a','b'}= 0.4\n",
      "m2: {{'b'}:0.5; {'a', 'c'}:0.3; {'c'}:0.2; {'a'}:0.0}\n",
      "m2: bpa of {'b'}= 0.5\n",
      "m2: belief of {'b'}= 0.5\n",
      "m2: plausibility of {'b'}= 0.5\n",
      "m2: commonality of {'b'}= 0.5\n",
      "m1_1 Equal to m1\n",
      "m1_2 Equal to m1\n",
      "frame of discernment frozenset({'a', 'c', 'b'})\n",
      "powerset of frame [frozenset(), frozenset({'a'}), frozenset({'c'}), frozenset({'b'}), frozenset({'a', 'c'}), frozenset({'a', 'b'}), frozenset({'b', 'c'}), frozenset({'a', 'b', 'c'})]\n"
     ]
    }
   ],
   "source": [
    "from Pyds import *\n",
    "m1 = MassFunction({'a':0.4, 'b':0.2, 'ab':0.1, 'abc':0.3})\n",
    "m2 = MassFunction({'b':0.5, 'c':0.2, 'ac':0.3, 'a':0.0})\n",
    "print(\"m1:\",m1)\n",
    "print(\"m1: bpa of {'a','b'}=\", m1['ab'])\n",
    "print(\"m1: belief of {'a','b'}=\", m1.bel('ab'))\n",
    "print(\"m1: plausibility of {'a','b'}=\", m1.pl('ab'))\n",
    "print(\"m1: commonality of {'a','b'}=\", m1.q('ab'))\n",
    "print(\"m2:\",m2)\n",
    "print(\"m2: bpa of {'b'}=\", m2['b'])\n",
    "print(\"m2: belief of {'b'}=\", m2.bel('b'))\n",
    "print(\"m2: plausibility of {'b'}=\", m2.pl('b'))\n",
    "print(\"m2: commonality of {'b'}=\", m2.q('b'))\n",
    "m1_1 = MassFunction([(('a',), 0.4), (('b',), 0.2), (('a', 'b'), 0.1), (('a', 'b', 'c'), 0.3)])\n",
    "if (m1_1==m1): \n",
    "    print(\"m1_1 Equal to m1\")\n",
    "m1_2 = MassFunction([('a', 0.4), ('b', 0.2), ('ab', 0.1), ('abc', 0.3)])\n",
    "if (m1_2==m1): \n",
    "    print(\"m1_2 Equal to m1\")\n",
    "print(\"frame of discernment\", m1.frame())\n",
    "print(\"powerset of frame\", list(m1.all()))"
   ]
  },
  {
   "cell_type": "code",
   "execution_count": null,
   "id": "b36d32f0",
   "metadata": {},
   "outputs": [],
   "source": []
  }
 ],
 "metadata": {
  "kernelspec": {
   "display_name": "Python 3 (ipykernel)",
   "language": "python",
   "name": "python3"
  },
  "language_info": {
   "codemirror_mode": {
    "name": "ipython",
    "version": 3
   },
   "file_extension": ".py",
   "mimetype": "text/x-python",
   "name": "python",
   "nbconvert_exporter": "python",
   "pygments_lexer": "ipython3",
   "version": "3.9.7"
  }
 },
 "nbformat": 4,
 "nbformat_minor": 5
}
